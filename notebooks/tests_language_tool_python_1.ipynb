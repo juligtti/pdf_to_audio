{
 "cells": [
  {
   "cell_type": "code",
   "execution_count": 1,
   "id": "5ef425ef-8f18-4027-8f02-48cfd3797c86",
   "metadata": {
    "tags": []
   },
   "outputs": [],
   "source": [
    "import language_tool_python"
   ]
  },
  {
   "cell_type": "code",
   "execution_count": 2,
   "id": "666a8076-ca5e-4c6e-9c23-a766e3e1066e",
   "metadata": {
    "tags": []
   },
   "outputs": [
    {
     "data": {
      "text/plain": [
       "['__name__',\n",
       " '__doc__',\n",
       " '__package__',\n",
       " '__loader__',\n",
       " '__spec__',\n",
       " '__path__',\n",
       " '__file__',\n",
       " '__cached__',\n",
       " '__builtins__',\n",
       " 'language_tag',\n",
       " 'LanguageTag',\n",
       " 'match',\n",
       " 'Match',\n",
       " 'config_file',\n",
       " 'which',\n",
       " 'utils',\n",
       " 'download_lt',\n",
       " 'server',\n",
       " 'LanguageTool',\n",
       " 'LanguageToolPublicAPI']"
      ]
     },
     "execution_count": 2,
     "metadata": {},
     "output_type": "execute_result"
    }
   ],
   "source": [
    "language_tool_python.__dir__()"
   ]
  },
  {
   "cell_type": "code",
   "execution_count": 4,
   "id": "8bd68fec-c885-48ee-ade6-84b44317b55e",
   "metadata": {
    "tags": []
   },
   "outputs": [
    {
     "data": {
      "text/plain": [
       "['__name__',\n",
       " '__doc__',\n",
       " '__package__',\n",
       " '__loader__',\n",
       " '__spec__',\n",
       " '__file__',\n",
       " '__cached__',\n",
       " '__builtins__',\n",
       " 'glob',\n",
       " 'logging',\n",
       " 'os',\n",
       " 're',\n",
       " 'requests',\n",
       " 'subprocess',\n",
       " 'sys',\n",
       " 'tempfile',\n",
       " 'tqdm',\n",
       " 'zipfile',\n",
       " 'find_executable',\n",
       " 'urljoin',\n",
       " 'get_language_tool_download_path',\n",
       " 'logger',\n",
       " 'BASE_URL',\n",
       " 'FILENAME',\n",
       " 'LATEST_VERSION',\n",
       " 'JAVA_VERSION_REGEX',\n",
       " 'JAVA_VERSION_REGEX_UPDATED',\n",
       " 'parse_java_version',\n",
       " 'confirm_java_compatibility',\n",
       " 'get_common_prefix',\n",
       " 'http_get',\n",
       " 'unzip_file',\n",
       " 'download_zip',\n",
       " 'download_lt']"
      ]
     },
     "execution_count": 4,
     "metadata": {},
     "output_type": "execute_result"
    }
   ],
   "source": [
    "language_tool_python.download_lt.__dir__()"
   ]
  },
  {
   "cell_type": "code",
   "execution_count": 5,
   "id": "896f0680-101e-42d8-a3f5-fc6a07b0970d",
   "metadata": {
    "tags": []
   },
   "outputs": [],
   "source": [
    "tool = language_tool_python.LanguageToolPublicAPI('de')"
   ]
  },
  {
   "cell_type": "code",
   "execution_count": 6,
   "id": "4e8331d5-03d0-4afb-944c-4c75385665ce",
   "metadata": {
    "tags": []
   },
   "outputs": [],
   "source": [
    "matches = tool.check(\"Ein kleinr dummer Text\")"
   ]
  },
  {
   "cell_type": "code",
   "execution_count": 7,
   "id": "b75d24e0-83f1-4760-92f8-e7972faf9c7f",
   "metadata": {
    "tags": []
   },
   "outputs": [
    {
     "data": {
      "text/plain": [
       "[]"
      ]
     },
     "execution_count": 7,
     "metadata": {},
     "output_type": "execute_result"
    }
   ],
   "source": [
    "matches"
   ]
  },
  {
   "cell_type": "code",
   "execution_count": 8,
   "id": "50284519-e440-4b87-9518-a6512a4dcd7e",
   "metadata": {
    "tags": []
   },
   "outputs": [],
   "source": [
    "t2 = \"\"\"\n",
    "Strafbarkeit bei fehlendem Versicherungsschutz in der Kfz-Haftpflichtverscherung\n",
    "Nach § 6 des Pflichtversicherungsgesetzes (PflVG) macht sich strafbar, wer Ein Fahrzeug auf öffentlichen Wegen oder Plätzen gebraucht oder den Gebrauch gestattet, obwohl für das Fahrzeug der erforderliche Haftpflichtversicherungsvertrag nicht oder nicht\n",
    "mehr besteht.\n",
    "\"\"\""
   ]
  },
  {
   "cell_type": "code",
   "execution_count": 9,
   "id": "fae71baf-f884-45bb-b894-1847d2189aad",
   "metadata": {
    "tags": []
   },
   "outputs": [],
   "source": [
    "matches = tool.check(t2)"
   ]
  },
  {
   "cell_type": "code",
   "execution_count": 10,
   "id": "4939f936-bd04-4aae-a881-63a26a231f59",
   "metadata": {
    "tags": []
   },
   "outputs": [
    {
     "data": {
      "text/plain": [
       "[Match({'ruleId': 'DE_CASE', 'message': 'Außer am Satzanfang werden nur Nomen und Eigennamen großgeschrieben.', 'replacements': ['nach'], 'offsetInContext': 43, 'context': '...chutz in der Kfz-Haftpflichtverscherung Nach § 6 des Pflichtversicherungsgesetzes (P...', 'offset': 82, 'errorLength': 4, 'category': 'CASING', 'ruleIssueType': 'uncategorized', 'sentence': 'Strafbarkeit bei fehlendem Versicherungsschutz in der Kfz-Haftpflichtverscherung\\nNach § 6 des Pflichtversicherungsgesetzes (PflVG) macht sich strafbar, wer Ein Fahrzeug auf öffentlichen Wegen oder Plätzen gebraucht oder den Gebrauch gestattet, obwohl für das Fahrzeug der erforderliche Haftpflichtversicherungsvertrag nicht oder nicht\\nmehr besteht.'}),\n",
       " Match({'ruleId': 'DE_CASE', 'message': 'Außer am Satzanfang werden nur Nomen und Eigennamen großgeschrieben.', 'replacements': ['ein'], 'offsetInContext': 43, 'context': '...setzes (PflVG) macht sich strafbar, wer Ein Fahrzeug auf öffentlichen Wegen oder Pl...', 'offset': 157, 'errorLength': 3, 'category': 'CASING', 'ruleIssueType': 'uncategorized', 'sentence': 'Strafbarkeit bei fehlendem Versicherungsschutz in der Kfz-Haftpflichtverscherung\\nNach § 6 des Pflichtversicherungsgesetzes (PflVG) macht sich strafbar, wer Ein Fahrzeug auf öffentlichen Wegen oder Plätzen gebraucht oder den Gebrauch gestattet, obwohl für das Fahrzeug der erforderliche Haftpflichtversicherungsvertrag nicht oder nicht\\nmehr besteht.'})]"
      ]
     },
     "execution_count": 10,
     "metadata": {},
     "output_type": "execute_result"
    }
   ],
   "source": [
    "matches"
   ]
  },
  {
   "cell_type": "code",
   "execution_count": null,
   "id": "a954b44f-5b2c-406a-bb14-b8d58c8854d5",
   "metadata": {},
   "outputs": [],
   "source": [
    "tool = language_tool_python.LanguageTool('de-DE',)"
   ]
  }
 ],
 "metadata": {
  "kernelspec": {
   "display_name": "Python 3 (ipykernel)",
   "language": "python",
   "name": "python3"
  },
  "language_info": {
   "codemirror_mode": {
    "name": "ipython",
    "version": 3
   },
   "file_extension": ".py",
   "mimetype": "text/x-python",
   "name": "python",
   "nbconvert_exporter": "python",
   "pygments_lexer": "ipython3",
   "version": "3.9.16"
  }
 },
 "nbformat": 4,
 "nbformat_minor": 5
}
